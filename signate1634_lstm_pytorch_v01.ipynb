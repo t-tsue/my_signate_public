{
  "nbformat": 4,
  "nbformat_minor": 0,
  "metadata": {
    "colab": {
      "provenance": [],
      "gpuType": "T4",
      "authorship_tag": "ABX9TyMDklTMRW8diaeiKf2ISFCh"
    },
    "kernelspec": {
      "name": "python3",
      "display_name": "Python 3"
    },
    "language_info": {
      "name": "python"
    },
    "accelerator": "GPU"
  },
  "cells": [
    {
      "cell_type": "markdown",
      "source": [
        "# Google Colab Pro T4で実施しました"
      ],
      "metadata": {
        "id": "K3qXKwnOyP36"
      }
    },
    {
      "cell_type": "code",
      "execution_count": 1,
      "metadata": {
        "id": "Jv3oIT4df1hi"
      },
      "outputs": [],
      "source": [
        "import pandas as pd\n",
        "import numpy as np\n",
        "import matplotlib.pyplot as plt\n",
        "import seaborn as sns\n",
        "import warnings\n",
        "import os\n",
        "from sklearn.model_selection import KFold, TimeSeriesSplit, StratifiedKFold\n",
        "from sklearn.metrics import r2_score, root_mean_squared_error, mean_absolute_error\n",
        "from sklearn.linear_model import LinearRegression\n",
        "from sklearn.svm import LinearSVR,SVR\n",
        "from sklearn.ensemble import RandomForestRegressor,ExtraTreesRegressor,GradientBoostingRegressor,VotingRegressor,StackingRegressor\n",
        "from sklearn.preprocessing import MinMaxScaler, StandardScaler, FunctionTransformer\n",
        "from sklearn.pipeline import make_pipeline\n",
        "from sklearn.compose import TransformedTargetRegressor\n",
        "from sklearn.decomposition import PCA\n",
        "from sklearn.kernel_ridge import KernelRidge\n",
        "from copy import deepcopy\n",
        "from sklearn.inspection import permutation_importance\n",
        "import pickle\n",
        "import torch\n",
        "import torch.nn as nn\n",
        "from torch.utils.data import Dataset, DataLoader\n",
        "import random\n",
        "from sklearn.utils.validation import check_is_fitted\n",
        "from sklearn.exceptions import NotFittedError\n",
        "from sklearn.base import BaseEstimator, RegressorMixin\n",
        "warnings.filterwarnings('ignore')"
      ]
    },
    {
      "cell_type": "code",
      "source": [
        "SEED=42\n",
        "\n",
        "# Set random seeds for reproducibility\n",
        "def set_seed(seed=SEED):\n",
        "    \"\"\"Set random seeds for reproducibility.\"\"\"\n",
        "    torch.manual_seed(seed)\n",
        "    if torch.cuda.is_available():\n",
        "        torch.cuda.manual_seed_all(seed)\n",
        "    np.random.seed(seed)\n",
        "    random.seed(seed)\n",
        "\n",
        "set_seed()"
      ],
      "metadata": {
        "id": "FCWiGc7kAH5s"
      },
      "execution_count": 2,
      "outputs": []
    },
    {
      "cell_type": "code",
      "source": [
        "DIR = '.'"
      ],
      "metadata": {
        "id": "aNDJRtVm6xwE"
      },
      "execution_count": 3,
      "outputs": []
    },
    {
      "cell_type": "code",
      "source": [
        "def one_hot_encoder(df):\n",
        "  \"\"\"\n",
        "  one hot encoder.\n",
        "\n",
        "  Args:\n",
        "      df (pd.DataFrame): source dataframe.\n",
        "\n",
        "  Returns:\n",
        "      pd.DataFrame: The one hot encoded dataframe.\n",
        "  \"\"\"\n",
        "  for col in df.columns:\n",
        "    if df[col].dtype == 'object' or df[col].dtype == 'category':\n",
        "      one_hot = pd.get_dummies(df[col], prefix=f'{col}_', dtype=int)\n",
        "      df = df.drop(col, axis=1)\n",
        "      df = df.join(one_hot)\n",
        "  return df\n",
        "\n",
        "def generate_hour_one_hot(df):\n",
        "  one_hot = pd.get_dummies(df['hour'].astype(str), prefix='hour_', dtype=int)\n",
        "  df = df.drop('hour', axis=1)\n",
        "  df = df.join(one_hot)\n",
        "  return df\n",
        "\n",
        "def generate_dayofweek_one_hot(df):\n",
        "  one_hot = pd.get_dummies(df['dayofweek'].astype(str), prefix='dayofweek_', dtype=int)\n",
        "  df = df.drop('dayofweek', axis=1)\n",
        "  df = df.join(one_hot)\n",
        "  return df\n",
        "\n",
        "def generate_dayofyear_one_hot(df):\n",
        "  one_hot = pd.get_dummies(df['dayofyear'].clip(upper=365).astype(str), prefix='dayofyear_', dtype=int)\n",
        "  df = df.drop('dayofyear', axis=1)\n",
        "  df = df.join(one_hot)\n",
        "  return df\n",
        "\n",
        "def setup_time(df):\n",
        "  \"\"\"\n",
        "  setup time(utc=True) values to dataframe index.\n",
        "\n",
        "  Args:\n",
        "      df (pd.DataFrame): source dataframe.\n",
        "\n",
        "  Returns:\n",
        "      pd.DataFrame: time indexed dataframe.\n",
        "  \"\"\"\n",
        "  df['time'] = pd.to_datetime(df['time'], utc=True)\n",
        "  df.set_index('time', inplace=True)\n",
        "  df['hour'] = df.index.hour\n",
        "  df['dayofweek'] = df.index.dayofweek\n",
        "  df['dayofyear'] = df.index.dayofyear\n",
        "  return df\n",
        "\n",
        "def setup_dataframe(file):\n",
        "  \"\"\"\n",
        "  setup dataframe.\n",
        "\n",
        "  Args:\n",
        "      file: csv file.\n",
        "\n",
        "  Returns:\n",
        "      pd.DataFrame: dataframe.\n",
        "  \"\"\"\n",
        "  df = pd.read_csv(os.path.join(DIR, file))\n",
        "  df = setup_time(df)\n",
        "\n",
        "  df['valencia_temp_diff'] = df['valencia_temp_max'] - df['valencia_temp_min']\n",
        "\n",
        "  non_fossil_sum_cols = [col for col in df.columns if col.startswith('generation') and col.find('fossil')<0]\n",
        "  df['demand_non_fossil_diff']= df['total_load_actual'] - df[non_fossil_sum_cols].apply(np.sum, axis=1)\n",
        "\n",
        "  #df = generate_hour_one_hot(df)\n",
        "  #df = generate_dayofweek_one_hot(df)\n",
        "  #df = generate_dayofyear_one_hot(df)\n",
        "  df = one_hot_encoder(df)\n",
        "  return df.fillna(0)\n",
        "\n",
        "def one_hot_times(df):\n",
        "  \"\"\"\n",
        "  one hot encoder.\n",
        "\n",
        "  Args:\n",
        "      df (pd.DataFrame): source dataframe.\n",
        "\n",
        "  Returns:\n",
        "      pd.DataFrame: The one hot encoded dataframe.\n",
        "  \"\"\"\n",
        "  df = generate_hour_one_hot(df)\n",
        "  df = generate_dayofweek_one_hot(df)\n",
        "  df = generate_dayofyear_one_hot(df)\n",
        "  return df"
      ],
      "metadata": {
        "id": "KROpMXR-Vfhw"
      },
      "execution_count": 4,
      "outputs": []
    },
    {
      "cell_type": "code",
      "source": [
        "# prompt: 引数のdataframe(indexにdatetimeが設置済)にhour, dayofweek, dayofyearを追加、ただしdayofyearの上限は365\n",
        "\n",
        "def add_time_features(df):\n",
        "  \"\"\"\n",
        "  Add hour, dayofweek, and dayofyear features to a dataframe with a DatetimeIndex.\n",
        "\n",
        "  Args:\n",
        "      df (pd.DataFrame): The source dataframe with a DatetimeIndex.\n",
        "\n",
        "  Returns:\n",
        "      pd.DataFrame: The dataframe with added time features.\n",
        "  \"\"\"\n",
        "  df['hour'] = df.index.hour\n",
        "  df['dayofweek'] = df.index.dayofweek\n",
        "  df['dayofyear'] = df.index.dayofyear\n",
        "  #df = generate_hour_one_hot(df)\n",
        "  #df = generate_dayofweek_one_hot(df)\n",
        "  #df = generate_dayofyear_one_hot(df)\n",
        "\n",
        "  return df\n",
        "\n",
        "#HOUR_COLUMNS = [f'hour__{hour}' for hour in range(24)]\n",
        "#DAYOFWEEK_COLUMNS = [f'dayofweek__{dayofweek}' for dayofweek in range(7)]\n",
        "#DAYOFYEAR_COLUMNS = [f'dayofyear__{dayofyear}' for dayofyear in range(1,366)]"
      ],
      "metadata": {
        "id": "Qjb2KlN3n4zj"
      },
      "execution_count": 5,
      "outputs": []
    },
    {
      "cell_type": "code",
      "source": [
        "train_df = setup_dataframe('train.csv')\n",
        "test_df = setup_dataframe('test.csv')"
      ],
      "metadata": {
        "id": "zeDaA_ipwkSH"
      },
      "execution_count": 6,
      "outputs": []
    },
    {
      "cell_type": "code",
      "source": [
        "# prompt: price_actualをヒルベルト変換でノイズ成分を除去\n",
        "# 閾値は変数で定義\n",
        "\n",
        "import pandas as pd\n",
        "import matplotlib.pyplot as plt\n",
        "import numpy as np\n",
        "from scipy.signal import hilbert\n",
        "\n",
        "def denoise_hilbert(data, threshold_percentage=5):\n",
        "  \"\"\"\n",
        "  Denoises a time series using the Hilbert transform by removing components\n",
        "  below a certain magnitude threshold in the frequency domain.\n",
        "\n",
        "  Args:\n",
        "      data (np.ndarray or pd.Series): The input time series data.\n",
        "      threshold_percentage (float): The percentage of the maximum amplitude\n",
        "                                    below which components will be zeroed out.\n",
        "\n",
        "  Returns:\n",
        "      np.ndarray: The denoised time series.\n",
        "  \"\"\"\n",
        "  # Ensure data is a numpy array\n",
        "  if isinstance(data, pd.Series):\n",
        "    data_array = data.values\n",
        "  else:\n",
        "    data_array = np.asarray(data)\n",
        "\n",
        "  # Compute the analytic signal using the Hilbert transform\n",
        "  analytic_signal = hilbert(data_array)\n",
        "  amplitude_envelope = np.abs(analytic_signal)\n",
        "\n",
        "  # Compute the Fourier Transform\n",
        "  fft_data = np.fft.fft(data_array)\n",
        "  frequencies = np.fft.fftfreq(len(data_array))\n",
        "\n",
        "  # Define the magnitude threshold based on a percentage of the maximum amplitude\n",
        "  magnitude_threshold = np.max(np.abs(fft_data)) * (threshold_percentage / 100.0)\n",
        "\n",
        "  # Create a mask for frequencies to keep (magnitudes above the threshold)\n",
        "  fft_denoised = fft_data.copy()\n",
        "  fft_denoised[np.abs(fft_data) < magnitude_threshold] = 0\n",
        "\n",
        "  # Compute the inverse Fourier Transform to get the denoised signal\n",
        "  denoised_data = np.fft.ifft(fft_denoised).real # Take the real part as the original signal was real\n",
        "\n",
        "  return denoised_data\n",
        "\n",
        "# Define the threshold percentage for Hilbert denoising\n",
        "HILBERT_THRESHOLD_PERCENTAGE = 0.01 # Adjust this value as needed\n",
        "\n",
        "# Apply Hilbert denoising to 'price_actual'\n",
        "# Note: Hilbert transform is typically used for analyzing instantaneous frequency/amplitude\n",
        "# and might not be the standard approach for general signal denoising compared to wavelet or Fourier methods.\n",
        "# However, based on the request, we implement it this way.\n",
        "# A more common approach for denoising with Fourier is simply zeroing out high frequencies.\n",
        "# Let's apply it to train_df['price_actual']\n",
        "train_df['price_actual_hilbert_denoised'] = denoise_hilbert(train_df['price_actual'], threshold_percentage=HILBERT_THRESHOLD_PERCENTAGE)\n",
        "\n",
        "# Visualize the original and Hilbert denoised 'price_actual'\n",
        "plt.figure(figsize=(14, 7))\n",
        "plt.plot(train_df.index, train_df['price_actual'], label='Original price_actual', alpha=0.7)\n",
        "plt.plot(train_df.index, train_df['price_actual_hilbert_denoised'], label='Hilbert Denoised price_actual', color='green')\n",
        "plt.title('Original vs Hilbert Denoised price_actual')\n",
        "plt.xlabel('Time')\n",
        "plt.ylabel('Price')\n",
        "plt.legend()\n",
        "plt.show()\n",
        "\n",
        "# Evaluate the difference between original and Hilbert denoised signal\n",
        "rmse_hilbert = root_mean_squared_error(train_df['price_actual'], train_df['price_actual_hilbert_denoised'])\n",
        "r2_hilbert = r2_score(train_df['price_actual'], train_df['price_actual_hilbert_denoised'])\n",
        "\n",
        "print(f\"RMSE (Original vs Hilbert Denoised): {rmse_hilbert:.4f}\")\n",
        "print(f\"R2 Score (Original vs Hilbert Denoised): {r2_hilbert:.4f}\")\n"
      ],
      "metadata": {
        "colab": {
          "base_uri": "https://localhost:8080/",
          "height": 543
        },
        "id": "etjgRGEw5dRG",
        "outputId": "fc31f899-265e-489b-fee4-097cfd7b036b"
      },
      "execution_count": 7,
      "outputs": [
        {
          "output_type": "display_data",
          "data": {
            "text/plain": [
              "<Figure size 1400x700 with 1 Axes>"
            ],
            "image/png": "[encoded data removed]"
          },
          "metadata": {}
        },
        {
          "output_type": "stream",
          "name": "stdout",
          "text": [
            "RMSE (Original vs Hilbert Denoised): 0.3255\n",
            "R2 Score (Original vs Hilbert Denoised): 0.9995\n"
          ]
        }
      ]
    },
    {
      "cell_type": "code",
      "source": [
        "# prompt: train_dfの数値項目を対象に年,月ごとのprice_actualとの相関係数(spearman)のデータフレームを作成\n",
        "\n",
        "train_df['year'] = train_df.index.year\n",
        "train_df['month'] = train_df.index.month\n",
        "\n",
        "# Select only numeric columns\n",
        "numeric_cols = train_df.select_dtypes(include=np.number).columns.tolist()\n",
        "# Exclude 'price_actual', 'year', and 'month' from the numeric columns for correlation calculation against 'price_actual'\n",
        "numeric_cols_for_corr = [col for col in numeric_cols if col not in ['price_actual', 'year', 'month', 'hour', 'dayofyear', ]]\n",
        "\n",
        "# Create an empty dictionary to store the correlation dataframes\n",
        "monthly_yearly_correlations = {}\n",
        "\n",
        "# Iterate through each numeric column (excluding 'price_actual', 'year', 'month')\n",
        "for col in numeric_cols_for_corr:\n",
        "    # Calculate the Spearman correlation for each year and month\n",
        "    corr_df = train_df.groupby(['year', 'month'])[[col, 'price_actual']].corr(method='spearman').unstack().iloc[:, 1].unstack()\n",
        "    monthly_yearly_correlations[col] = corr_df\n",
        "\n",
        "# Combine the correlation dataframes into a single dataframe\n",
        "# This will be a MultiIndex dataframe where the outer index is the column name\n",
        "# and the inner index is the year and month\n",
        "correlation_summary_df = pd.concat(monthly_yearly_correlations, axis=0)\n",
        "\n",
        "# Display the resulting dataframe\n",
        "correlation_summary_df.fillna(0, inplace=True)\n",
        "correlation_summary_df_abs = correlation_summary_df.abs()\n",
        "\n",
        "corr_mean_val = correlation_summary_df_abs.mean()\n",
        "corr_std_val = correlation_summary_df_abs.std(ddof=0)\n",
        "\n",
        "# Calculate the threshold: mean + 2 * std\n",
        "target_threshold_std = corr_mean_val + 2 * corr_std_val\n",
        "\n",
        "# Identify data points where the absolute correlation is greater than the threshold in any month\n",
        "# We use .stack() to make it easier to filter based on values\n",
        "anomalous_correlations = correlation_summary_df_abs[correlation_summary_df_abs > target_threshold_std].stack().reset_index()\n",
        "\n",
        "print(\"Data points where absolute correlation is greater than mean + 2 * std in any month:\")\n",
        "FEATURES = anomalous_correlations['level_0'].unique()\n",
        "FEATURES = [column for column in FEATURES if column not in ['price_actual', 'year', 'month', 'hour', 'dayofyear', 'dayofweek', 'price_actual_hilbert_denoised']]\n",
        "#FEATURES\n",
        "#"
      ],
      "metadata": {
        "colab": {
          "base_uri": "https://localhost:8080/"
        },
        "id": "lPCt4_YKgctT",
        "outputId": "1dc30a62-1ab7-478e-a3b5-b098a39cce91"
      },
      "execution_count": 8,
      "outputs": [
        {
          "output_type": "stream",
          "name": "stdout",
          "text": [
            "Data points where absolute correlation is greater than mean + 2 * std in any month:\n"
          ]
        }
      ]
    },
    {
      "cell_type": "code",
      "source": [
        "WINDOW_SIZE=24*7*2\n",
        "BATCH_SIZE=360\n",
        "EPOCHS=20"
      ],
      "metadata": {
        "id": "gztBBbnbJgCW"
      },
      "execution_count": 9,
      "outputs": []
    },
    {
      "cell_type": "code",
      "source": [
        "def generate_labels(y, window_size):\n",
        "  \"\"\"\n",
        "    generate labels.\n",
        "\n",
        "    Args:\n",
        "        y (pd.Series): target variable.\n",
        "        window_size (int): window size.\n",
        "\n",
        "    Returns:\n",
        "        pd.DataFrame: labels.\n",
        "  \"\"\"\n",
        "  labels = []\n",
        "  indexes = []\n",
        "  for i in range(len(y) - window_size + 1):\n",
        "    window = y.iloc[i:i+window_size]\n",
        "    indexes.append(window.index[-1])\n",
        "    y_last = np.float32(window.iloc[-1])\n",
        "    y_scale = np.float32(y_last/ window.mean())\n",
        "    y_mean = np.float32(window.mean())\n",
        "    y_median = np.float32(window.quantile(0.5))\n",
        "    y_std = np.float32(window.std())\n",
        "    y_zscore = np.float32((y_last - y_mean) / y_std)\n",
        "    y_q25 = np.float32(window.quantile(0.25))\n",
        "    y_q75 = np.float32(window.quantile(0.75))\n",
        "    labels.append([y_last, y_scale, y_mean, y_median, y_std, y_zscore, y_q25, y_q75])\n",
        "  return pd.DataFrame(labels, index=indexes).astype(np.float32)"
      ],
      "metadata": {
        "id": "8mEq6yCvSBdd"
      },
      "execution_count": 10,
      "outputs": []
    },
    {
      "cell_type": "code",
      "source": [
        "# Define the LSTM model\n",
        "\n",
        "# Custom Dataset for time series\n",
        "class TimeSeriesDataset(Dataset):\n",
        "    \"\"\"Custom Dataset for time series data.\"\"\"\n",
        "    def __init__(self, X, y, sequence_length=WINDOW_SIZE,X_scaler=MinMaxScaler(), y_scaler=MinMaxScaler()):\n",
        "        \"\"\"\n",
        "        Initializes the TimeSeriesDataset.\n",
        "\n",
        "        Args:\n",
        "            X (pandas,DataFrame): The input features.\n",
        "            y (pandas.Series): The target variable.\n",
        "            sequence_length (int): The length of the input sequence.\n",
        "        \"\"\"\n",
        "        self.X = X\n",
        "        self.y = y\n",
        "        self.sequence_length = sequence_length\n",
        "        self.X_scaler = X_scaler\n",
        "        try:\n",
        "          check_is_fitted(self.X_scaler)\n",
        "        except NotFittedError as e:\n",
        "          self.X_scaler.fit(self.X)\n",
        "        if y is not None:\n",
        "          self.y_scaler = y_scaler\n",
        "          try:\n",
        "            check_is_fitted(self.y_scaler)\n",
        "          except NotFittedError as e:\n",
        "            self.y_scaler.fit(self.y)\n",
        "\n",
        "    def __len__(self):\n",
        "        \"\"\"Returns the total number of samples.\"\"\"\n",
        "        return len(self.X) - self.sequence_length + 1\n",
        "\n",
        "    def __getitem__(self, index):\n",
        "        \"\"\"\n",
        "        Gets a sample from the dataset.\n",
        "\n",
        "        Args:\n",
        "            index (int): The index of the sample.\n",
        "\n",
        "        Returns:\n",
        "            tuple: A tuple containing the input sequence and the target value.\n",
        "        \"\"\"\n",
        "        X = self.X.iloc[index:index+self.sequence_length]\n",
        "        y = self.y.iloc[index]\n",
        "        #if 'dayofweek' in X.columns:\n",
        "        #  X['dayofweek'] = X['dayofweek'].iloc[-1]\n",
        "        #if 'hour' in X.columns:\n",
        "        #  X['hour'] = X['hour'].iloc[-1]\n",
        "        X = self.X_scaler.transform(X).astype(np.float32)\n",
        "        if self.y is not None:\n",
        "          y = self.y_scaler.transform([y]).astype(np.float32)\n",
        "\n",
        "        return torch.tensor(X), torch.tensor(y[0]) if self.y is not None else torch.tensor(X)\n"
      ],
      "metadata": {
        "id": "vD2Y_OfoJsal"
      },
      "execution_count": 11,
      "outputs": []
    },
    {
      "cell_type": "code",
      "source": [
        "# prompt: pytorchのLSTMモデル\n",
        "# バッチサイズ : 360\n",
        "# sequence_size : 24 * 7 * 2\n",
        "# GPUが使える場合はGPU\n",
        "# 正解labelは y_の最後の要素, yの平均のタプル\n",
        "# モデルを定義して学習、予測のsample\n",
        "\n",
        "import pandas as pd\n",
        "import numpy as np\n",
        "from sklearn.base import BaseEstimator, RegressorMixin\n",
        "from sklearn.utils.validation import check_X_y, check_array, check_is_fitted\n",
        "from sklearn.exceptions import NotFittedError\n",
        "from tqdm import tqdm\n",
        "\n",
        "# Define the LSTM model\n",
        "class LSTMModel(nn.Module):\n",
        "    \"\"\"LSTM model for time series forecasting.\"\"\"\n",
        "    def __init__(self, input_size, hidden_layer_size, output_size):\n",
        "        \"\"\"\n",
        "        Initializes the LSTM model.\n",
        "\n",
        "        Args:\n",
        "            input_size (int): The number of input features.\n",
        "            hidden_layer_size (int): The size of the hidden layer in the LSTM.\n",
        "            output_size (int): The size of the output (number of predicted steps).\n",
        "        \"\"\"\n",
        "        super().__init__()\n",
        "        self.hidden_layer_size = hidden_layer_size\n",
        "\n",
        "        # Use batch_first=True for batch size to be the first dimension\n",
        "        self.lstm = nn.LSTM(input_size, hidden_layer_size, batch_first=True)\n",
        "\n",
        "        self.linear = nn.Linear(hidden_layer_size, output_size)\n",
        "\n",
        "\n",
        "    def forward(self, input_seq):\n",
        "        \"\"\"\n",
        "        Performs a forward pass through the model.\n",
        "\n",
        "        Args:\n",
        "            input_seq (torch.Tensor): The input sequence with shape (batch_size, sequence_length, input_size).\n",
        "\n",
        "        Returns:\n",
        "            torch.Tensor: The output prediction with shape (batch_size, output_size).\n",
        "        \"\"\"\n",
        "        # input_seq shape is (batch_size, sequence_length, input_size)\n",
        "        lstm_out, _ = self.lstm(input_seq) # LSTM output shape is (batch_size, sequence_length, hidden_size)\n",
        "\n",
        "        # We are interested in the output of the last time step\n",
        "        last_time_step_output = lstm_out[:, -1, :] # Shape is (batch_size, hidden_size)\n",
        "\n",
        "        predictions = self.linear(last_time_step_output) # Shape is (batch_size, output_size)\n",
        "        return predictions\n",
        "\n",
        "class LSTMRegressor(BaseEstimator, RegressorMixin):\n",
        "    \"\"\"\n",
        "    A scikit-learn compatible regressor using an LSTM model.\n",
        "    \"\"\"\n",
        "    def __init__(self, hidden_layer_size=50, learning_rate=0.001, epochs=10, batch_size=50, sequence_length=100):\n",
        "        \"\"\"\n",
        "        Initializes the LSTMRegressor.\n",
        "\n",
        "        Args:\n",
        "            hidden_layer_size (int): The size of the hidden layer in the LSTM.\n",
        "            learning_rate (float): The learning rate for the optimizer.\n",
        "            epochs (int): The number of training epochs.\n",
        "            batch_size (int): The batch size for training.\n",
        "            sequence_length (int): The length of the input sequence for the LSTM.\n",
        "        \"\"\"\n",
        "        self.hidden_layer_size = hidden_layer_size\n",
        "        self.learning_rate = learning_rate\n",
        "        self.epochs = epochs\n",
        "        self.batch_size = batch_size\n",
        "        self.sequence_length = sequence_length\n",
        "        self.X_scaler = MinMaxScaler()\n",
        "        self.y_scaler = MinMaxScaler()\n",
        "\n",
        "\n",
        "    def fit(self, X, y):\n",
        "        \"\"\"\n",
        "        Fits the LSTM model to the training data.\n",
        "\n",
        "        Args:\n",
        "            X (pandas.DataFrame): The training input features.\n",
        "            y (pandas.Series): The training target variable.\n",
        "\n",
        "        Returns:\n",
        "            LSTMRegressor: The fitted regressor instance.\n",
        "        \"\"\"\n",
        "        #X, y = check_X_y(X, y, estimator=self, force_all_finite=True)\n",
        "        model_loss_value = 1000\n",
        "\n",
        "        # Store the feature names for later use in predict\n",
        "        self.feature_names_in_ = X.columns.tolist()\n",
        "\n",
        "        # Scale the data - fit on the entire training data\n",
        "        self.X_scaler.fit(X)\n",
        "        self.y_scaler.fit(y)\n",
        "\n",
        "        # Create the dataset and dataloader\n",
        "        train_dataset = TimeSeriesDataset(X, y, sequence_length=self.sequence_length,\n",
        "                                           X_scaler=self.X_scaler, y_scaler=self.y_scaler)\n",
        "        train_loader = DataLoader(train_dataset, batch_size=self.batch_size, shuffle=False, drop_last=True) # drop_last to handle batches smaller than batch_size\n",
        "\n",
        "\n",
        "        # Initialize the model, loss function, and optimizer\n",
        "        INPUT_SIZE = X.shape[1]\n",
        "        # Output size is 8 for scaled y_last and scaled y_mean\n",
        "        OUTPUT_SIZE = 8\n",
        "        self.model_ = LSTMModel(input_size=INPUT_SIZE ,\n",
        "                                hidden_layer_size=self.hidden_layer_size,\n",
        "                                output_size=OUTPUT_SIZE).to(device)\n",
        "\n",
        "        criterion = nn.MSELoss()\n",
        "        optimizer = torch.optim.Adam(self.model_.parameters(), lr=self.learning_rate)\n",
        "\n",
        "        # Training loop\n",
        "        self.model_.train()\n",
        "        for epoch in range(self.epochs):\n",
        "            total_loss = 0\n",
        "            for i, (seq, labels) in enumerate(tqdm(train_loader, desc=f\"Epoch {epoch+1}/{self.epochs}\")):\n",
        "                # Move data to device\n",
        "                seq = seq.to(device)\n",
        "                labels = labels.to(device)\n",
        "\n",
        "                optimizer.zero_grad()\n",
        "\n",
        "                # Forward pass\n",
        "                outputs = self.model_(seq)\n",
        "\n",
        "                # Calculate loss\n",
        "                loss = criterion(outputs, labels)\n",
        "\n",
        "                # Backward pass and optimize\n",
        "                loss.backward()\n",
        "                optimizer.step()\n",
        "\n",
        "                total_loss += loss.item()\n",
        "\n",
        "            avg_loss = total_loss / len(train_loader)\n",
        "            if avg_loss < model_loss_value:\n",
        "                model_loss_value = avg_loss\n",
        "                torch.save(self.model_.state_dict(), os.path.join(DIR,'best_model_v004.pth'))\n",
        "\n",
        "            print(f\"Epoch {epoch+1}/{self.epochs}, Loss: {avg_loss:.4f}\")\n",
        "\n",
        "        self.is_fitted_ = True\n",
        "        torch.save(self.model_.state_dict(), os.path.join(DIR,'last_model_v004.pth'))\n",
        "        return self\n",
        "\n",
        "    def restore(self, model_file='best_model_v004.pth'):\n",
        "        self.model_.load_state_dict(torch.load(os.path.join(DIR, model_file)))\n",
        "        self.model_.eval()\n",
        "        return self\n",
        "\n",
        "    def predict(self, X):\n",
        "        \"\"\"\n",
        "        Predicts target values using the fitted LSTM model.\n",
        "\n",
        "        Args:\n",
        "            X (pandas.DataFrame): The input features for prediction.\n",
        "\n",
        "        Returns:\n",
        "            numpy.ndarray: The predicted target values (inverse scaled).\n",
        "        \"\"\"\n",
        "        check_is_fitted(self)\n",
        "        #X = check_array(X, estimator=self, force_all_finite=True)\n",
        "\n",
        "        # Ensure the columns match the training data\n",
        "        if list(X.columns) != self.feature_names_in_:\n",
        "             raise ValueError(\"Input features during predict do not match features seen during fit.\")\n",
        "\n",
        "        # Scale the data\n",
        "        X_scaled = self.X_scaler.transform(X)\n",
        "\n",
        "        # Create sequences for prediction\n",
        "        predict_sequences = []\n",
        "        # For prediction, we assume X contains the features up to the point of prediction.\n",
        "        # We need the last `self.sequence_length` observations to predict the next value.\n",
        "        # If X has length N, and sequence_length is L, we can make N - L + 1 predictions.\n",
        "        # The prediction made from the sequence X[i:i+L] predicts the value *after* X[i+L-1].\n",
        "        # So, the predictions will correspond to the original index from X.index[self.sequence_length - 1:]\n",
        "        for i in range(len(X_scaled) - self.sequence_length + 1):\n",
        "            predict_sequences.append(X_scaled[i:i+self.sequence_length])\n",
        "\n",
        "        # If X is shorter than the sequence length, we cannot form any sequence\n",
        "        if not predict_sequences:\n",
        "             print(\"Warning: Input data length is less than sequence_length. No predictions can be made.\")\n",
        "             # If X is a pandas DataFrame, return an empty Series with the correct dtype\n",
        "             if isinstance(X, pd.DataFrame):\n",
        "                 # The output is a tuple (last_y, mean_y), so the Series should contain tuples\n",
        "                 return pd.Series(dtype='object')\n",
        "             else: # If X is a numpy array, return just an empty numpy array\n",
        "                 return np.array([])\n",
        "\n",
        "\n",
        "        # Create DataLoader for prediction. Use a batch size that is a multiple of the total prediction size\n",
        "        # or set batch size to the total number of samples to process all at once.\n",
        "        # Ensure drop_last=False for prediction to get all predictions.\n",
        "        predict_dataset = torch.FloatTensor(np.array(predict_sequences))\n",
        "        # Adjust batch size for prediction if the number of samples is not a multiple of training batch_size\n",
        "        predict_batch_size = min(self.batch_size, len(predict_dataset))\n",
        "        # If the number of samples is less than the training batch size, use the number of samples as batch size\n",
        "        if len(predict_dataset) < self.batch_size:\n",
        "             predict_batch_size = len(predict_dataset)\n",
        "        # If len(predict_dataset) is 0, predict_batch_size would be 0, need to handle this\n",
        "        if predict_batch_size == 0:\n",
        "             print(\"Warning: No sequences can be formed for prediction.\")\n",
        "             if isinstance(X, pd.DataFrame):\n",
        "                 return pd.Series(dtype='object')\n",
        "             else:\n",
        "                 return np.array([])\n",
        "\n",
        "\n",
        "        predict_loader = DataLoader(predict_dataset, batch_size=predict_batch_size, shuffle=False, drop_last=False)\n",
        "\n",
        "\n",
        "        self.model_.eval()\n",
        "        with torch.no_grad():\n",
        "            all_predictions = []\n",
        "            for seq_batch in predict_loader:\n",
        "                seq_batch = seq_batch.to(device)\n",
        "\n",
        "                # No need to reset hidden state per batch if using batch_first=True and not stateful\n",
        "                # The LSTM handles batches independently when batch_first=True\n",
        "\n",
        "                outputs = self.model_(seq_batch)\n",
        "                all_predictions.append(outputs.cpu().numpy())\n",
        "\n",
        "        # Concatenate predictions from all batches\n",
        "        predictions_scaled = np.concatenate(all_predictions, axis=0) # Shape (num_predictions, output_size)\n",
        "\n",
        "        # Inverse transform the predictions for both y_last and y_mean\n",
        "        # The inverse_transform expects shape (n_samples, n_features), so we need to apply it column-wise or reshape\n",
        "        predictions_unscaled = self.y_scaler.inverse_transform(predictions_scaled)\n",
        "\n",
        "\n",
        "        # The number of predictions is len(X) - sequence_length + 1.\n",
        "        # These predictions correspond to the time indices from X.index[self.sequence_length - 1:]\n",
        "\n",
        "        # Return predictions aligned with the correct part of the original index\n",
        "        # The output is a tuple: (predicted_y_last, predicted_y_mean)\n",
        "\n",
        "        y_0 = predictions_unscaled[:, 0]\n",
        "        y_1 = predictions_unscaled[:, 1]\n",
        "        y_2 = predictions_unscaled[:, 2]\n",
        "        y_3 = predictions_unscaled[:, 3]\n",
        "        y_4 = predictions_unscaled[:, 4]\n",
        "        y_5 = predictions_unscaled[:, 5]\n",
        "        y_6 = predictions_unscaled[:, 6]\n",
        "        y_7 = predictions_unscaled[:, 7]\n",
        "\n",
        "        # Combine the predictions into a list of tuples\n",
        "        combined_predictions = list(zip(y_0, y_1, y_2, y_3, y_4, y_5, y_6, y_7))\n",
        "\n",
        "        # If X is a pandas DataFrame, return a Series of tuples with the correct index\n",
        "        if isinstance(X, pd.DataFrame):\n",
        "            # The predictions correspond to the time steps *after* the end of the sequence\n",
        "            # So, the prediction from sequence X[i:i+L] predicts the value at X.index[i+L]\n",
        "            # However, the task description implies predicting the last element of y_ (price_actual)\n",
        "            # and the mean of y_ within the sequence.\n",
        "            # Let's re-read the requirement: \"正解labelは y_の最後の要素, yの平均のタプル\"\n",
        "            # This means for a sequence X[i:i+L] (corresponding to y[i:i+L]), the model should predict\n",
        "            # the tuple (y[i+L-1], mean(y[i:i+L])).\n",
        "            # Therefore, the predictions correspond to the original index from X.index[self.sequence_length - 1:]\n",
        "            return pd.Series(combined_predictions, index=X.index[self.sequence_length - 1:])\n",
        "        else: # If X is a numpy array, return a numpy array of tuples\n",
        "             # Note: numpy arrays are less suitable for storing tuples; a structured array or object array would be needed,\n",
        "             # or simply return two separate arrays. Let's return an object array of tuples for simplicity.\n",
        "             return np.array(combined_predictions, dtype='object')\n",
        "\n",
        "\n",
        "# Example usage:\n",
        "# Assuming X_train and y_train are your training data (pandas DataFrames/Series)\n",
        "# and X_test is your test data (pandas DataFrame)\n",
        "\n",
        "# Select features and target for LSTM\n",
        "# Adjust FEATURES list as needed based on your data\n",
        "# Ensure FEATURES list is defined before this block if it's not in the provided code\n",
        "#if 'FEATURES' not in locals():\n",
        "#    print(\"FEATURES list not found. Using all columns except 'price_actual'.\")\n",
        "#    FEATURES = [col for col in train_df.columns if col != 'price_actual' and train_df[col].dtype in [np.float32, np.float64, np.int64]]\n",
        "\n",
        "X_train_lstm = train_df[FEATURES]\n",
        "y_train_lstm = generate_labels(train_df['price_actual'], WINDOW_SIZE)\n",
        "# For prediction, we need to form sequences from the available test data.\n",
        "# If the test data starts *after* the training data ends, we need to include the last\n",
        "# `sequence_length - 1` samples from the training data to form the first sequence for the test set.\n",
        "# Let's assume X_test_lstm should be the test_df features, but we need to handle sequence creation.\n",
        "# A common approach is to create a sequence from the last training data points + test data points.\n",
        "# However, the predict method in the refactored class handles sequence creation internally.\n",
        "# The input to predict should be the data for which you want to make predictions.\n",
        "# If you want to predict for the entire test_df, pass test_df[FEATURES] to predict.\n",
        "# The predict method will then create overlapping sequences of length sequence_length\n",
        "# and make predictions for the last element of each sequence.\n",
        "# The index of the predictions will start from the point where the first full sequence ends in the test_df.\n",
        "\n",
        "# Example: Predicting for the entire test_df\n",
        "# X_test_lstm = test_df[FEATURES] # Use test_df features directly\n",
        "\n",
        "# If you want to predict the values *after* the training data ends,\n",
        "# you need to append the test data to the training data for prediction sequence generation.\n",
        "# However, the predict method in the refactored class works on a single input DataFrame.\n",
        "# It predicts for the indices from `self.sequence_length - 1` onwards within the input DataFrame.\n",
        "# So, to predict for test_df, pass test_df[FEATURES] to predict.\n",
        "\n",
        "# Let's assume you want to predict for the test_df\n",
        "X_test_lstm = pd.concat([X_train_lstm.iloc[ - WINDOW_SIZE + 1:] ,test_df])[FEATURES].fillna(0)\n",
        "\n",
        "\n",
        "# Set the device for training and prediction\n",
        "device = torch.device(\"cuda:0\" if torch.cuda.is_available() else \"cpu\")\n",
        "print(f\"Using device: {device}\")\n",
        "\n",
        "# Set random seeds for reproducibility\n",
        "set_seed()\n",
        "\n",
        "# Initialize and fit the LSTM Regressor\n",
        "# Adjust hidden_layer_size, learning_rate, epochs as needed\n",
        "# Batch size and sequence length are parameters from the problem description\n",
        "lstm_regressor = LSTMRegressor(hidden_layer_size=len(FEATURES), learning_rate=0.001, epochs=1,\n",
        "                               batch_size=BATCH_SIZE, sequence_length=WINDOW_SIZE)\n",
        "\n",
        "# Check if the number of training samples is sufficient for the given sequence length\n",
        "if len(X_train_lstm) >= lstm_regressor.sequence_length:\n",
        "    print(\"Fitting the LSTM model...\")\n",
        "    lstm_regressor.fit(X_train_lstm, y_train_lstm)\n",
        "\n",
        "    # Predict on the test data\n",
        "    # Check if the test data length is sufficient to form at least one sequence\n",
        "    if len(X_test_lstm) >= lstm_regressor.sequence_length:\n",
        "        print(\"Making predictions on the test data...\")\n",
        "        predictions = lstm_regressor.predict(X_test_lstm)\n",
        "        print(\"Predictions (tuple of predicted_y_last, predicted_y_mean):\")\n",
        "        print(predictions)\n",
        "    else:\n",
        "        print(f\"Test data length ({len(X_test_lstm)}) is less than sequence_length ({lstm_regressor.sequence_length}). Cannot make predictions.\")\n",
        "\n",
        "else:\n",
        "    print(f\"Training data length ({len(X_train_lstm)}) is less than sequence_length ({lstm_regressor.sequence_length}). Cannot fit the model.\")\n",
        "\n",
        "\n"
      ],
      "metadata": {
        "colab": {
          "base_uri": "https://localhost:8080/"
        },
        "id": "DA7QmeuhKa0s",
        "outputId": "5e8755c0-cd3d-4b42-85d6-b66aeb7184e0"
      },
      "execution_count": 12,
      "outputs": [
        {
          "output_type": "stream",
          "name": "stdout",
          "text": [
            "Using device: cuda:0\n",
            "Fitting the LSTM model...\n"
          ]
        },
        {
          "output_type": "stream",
          "name": "stderr",
          "text": [
            "Epoch 1/1: 100%|██████████| 72/72 [01:00<00:00,  1.20it/s]\n"
          ]
        },
        {
          "output_type": "stream",
          "name": "stdout",
          "text": [
            "Epoch 1/1, Loss: 0.0468\n",
            "Making predictions on the test data...\n",
            "Predictions (tuple of predicted_y_last, predicted_y_mean):\n",
            "time\n",
            "2017-12-31 23:00:00+00:00    (46.08748, 0.8894946, 61.295322, 56.920765, 5....\n",
            "2018-01-01 00:00:00+00:00    (44.823784, 0.89915746, 61.389717, 56.74981, 6...\n",
            "2018-01-01 01:00:00+00:00    (45.44237, 0.8999072, 61.226692, 57.16657, 6.1...\n",
            "2018-01-01 02:00:00+00:00    (45.84365, 0.89759237, 61.223186, 57.151894, 6...\n",
            "2018-01-01 03:00:00+00:00    (46.56101, 0.8687434, 60.415043, 56.59536, 6.4...\n",
            "                                                   ...                        \n",
            "2018-12-31 18:00:00+00:00    (48.981388, 0.935818, 61.399395, 57.28916, 5.9...\n",
            "2018-12-31 19:00:00+00:00    (47.5953, 0.92556685, 61.204056, 56.991283, 6....\n",
            "2018-12-31 20:00:00+00:00    (47.630295, 0.9206746, 61.436512, 57.00262, 6....\n",
            "2018-12-31 21:00:00+00:00    (47.44043, 0.917555, 61.456173, 56.928764, 6.2...\n",
            "2018-12-31 22:00:00+00:00    (47.891743, 0.91597193, 61.28666, 56.961857, 6...\n",
            "Length: 8760, dtype: object\n"
          ]
        }
      ]
    },
    {
      "cell_type": "code",
      "source": [
        "predictions.map(lambda x:x[0]).describe()"
      ],
      "metadata": {
        "colab": {
          "base_uri": "https://localhost:8080/",
          "height": 335
        },
        "id": "cx9qrnzzhQ5_",
        "outputId": "506cc7e6-9d72-4cda-f0c9-37af9fa84b3f"
      },
      "execution_count": 13,
      "outputs": [
        {
          "output_type": "execute_result",
          "data": {
            "text/plain": [
              "count    8760.000000\n",
              "mean       48.038525\n",
              "std         1.960548\n",
              "min        40.766582\n",
              "25%        46.695231\n",
              "50%        48.108000\n",
              "75%        49.528446\n",
              "max        53.722176\n",
              "dtype: float64"
            ],
            "text/html": [
              "<div>\n",
              "<style scoped>\n",
              "    .dataframe tbody tr th:only-of-type {\n",
              "        vertical-align: middle;\n",
              "    }\n",
              "\n",
              "    .dataframe tbody tr th {\n",
              "        vertical-align: top;\n",
              "    }\n",
              "\n",
              "    .dataframe thead th {\n",
              "        text-align: right;\n",
              "    }\n",
              "</style>\n",
              "<table border=\"1\" class=\"dataframe\">\n",
              "  <thead>\n",
              "    <tr style=\"text-align: right;\">\n",
              "      <th></th>\n",
              "      <th>0</th>\n",
              "    </tr>\n",
              "  </thead>\n",
              "  <tbody>\n",
              "    <tr>\n",
              "      <th>count</th>\n",
              "      <td>8760.000000</td>\n",
              "    </tr>\n",
              "    <tr>\n",
              "      <th>mean</th>\n",
              "      <td>48.038525</td>\n",
              "    </tr>\n",
              "    <tr>\n",
              "      <th>std</th>\n",
              "      <td>1.960548</td>\n",
              "    </tr>\n",
              "    <tr>\n",
              "      <th>min</th>\n",
              "      <td>40.766582</td>\n",
              "    </tr>\n",
              "    <tr>\n",
              "      <th>25%</th>\n",
              "      <td>46.695231</td>\n",
              "    </tr>\n",
              "    <tr>\n",
              "      <th>50%</th>\n",
              "      <td>48.108000</td>\n",
              "    </tr>\n",
              "    <tr>\n",
              "      <th>75%</th>\n",
              "      <td>49.528446</td>\n",
              "    </tr>\n",
              "    <tr>\n",
              "      <th>max</th>\n",
              "      <td>53.722176</td>\n",
              "    </tr>\n",
              "  </tbody>\n",
              "</table>\n",
              "</div><br><label><b>dtype:</b> float64</label>"
            ]
          },
          "metadata": {},
          "execution_count": 13
        }
      ]
    },
    {
      "cell_type": "code",
      "source": [
        "predictions.map(lambda x:x[-1]).describe()"
      ],
      "metadata": {
        "colab": {
          "base_uri": "https://localhost:8080/",
          "height": 335
        },
        "id": "OEU-aOd7o-9i",
        "outputId": "7e30cd6e-a0d7-4961-fa18-adcdc76b29b8"
      },
      "execution_count": 14,
      "outputs": [
        {
          "output_type": "execute_result",
          "data": {
            "text/plain": [
              "count    8760.000000\n",
              "mean       64.078072\n",
              "std         0.850238\n",
              "min        61.461933\n",
              "25%        63.477907\n",
              "50%        64.096294\n",
              "75%        64.690809\n",
              "max        67.423698\n",
              "dtype: float64"
            ],
            "text/html": [
              "<div>\n",
              "<style scoped>\n",
              "    .dataframe tbody tr th:only-of-type {\n",
              "        vertical-align: middle;\n",
              "    }\n",
              "\n",
              "    .dataframe tbody tr th {\n",
              "        vertical-align: top;\n",
              "    }\n",
              "\n",
              "    .dataframe thead th {\n",
              "        text-align: right;\n",
              "    }\n",
              "</style>\n",
              "<table border=\"1\" class=\"dataframe\">\n",
              "  <thead>\n",
              "    <tr style=\"text-align: right;\">\n",
              "      <th></th>\n",
              "      <th>0</th>\n",
              "    </tr>\n",
              "  </thead>\n",
              "  <tbody>\n",
              "    <tr>\n",
              "      <th>count</th>\n",
              "      <td>8760.000000</td>\n",
              "    </tr>\n",
              "    <tr>\n",
              "      <th>mean</th>\n",
              "      <td>64.078072</td>\n",
              "    </tr>\n",
              "    <tr>\n",
              "      <th>std</th>\n",
              "      <td>0.850238</td>\n",
              "    </tr>\n",
              "    <tr>\n",
              "      <th>min</th>\n",
              "      <td>61.461933</td>\n",
              "    </tr>\n",
              "    <tr>\n",
              "      <th>25%</th>\n",
              "      <td>63.477907</td>\n",
              "    </tr>\n",
              "    <tr>\n",
              "      <th>50%</th>\n",
              "      <td>64.096294</td>\n",
              "    </tr>\n",
              "    <tr>\n",
              "      <th>75%</th>\n",
              "      <td>64.690809</td>\n",
              "    </tr>\n",
              "    <tr>\n",
              "      <th>max</th>\n",
              "      <td>67.423698</td>\n",
              "    </tr>\n",
              "  </tbody>\n",
              "</table>\n",
              "</div><br><label><b>dtype:</b> float64</label>"
            ]
          },
          "metadata": {},
          "execution_count": 14
        }
      ]
    },
    {
      "cell_type": "code",
      "source": [
        "set_seed()\n",
        "\n",
        "EPOCHS=30\n",
        "WINDOW_SIZE=24 * 7 * 2\n",
        "BATCH_SIZE=360\n",
        "hidden_layer_size=len(FEATURES)\n",
        "\n",
        "X_test_lstm = pd.concat([X_train_lstm.iloc[ - WINDOW_SIZE + 1:] ,test_df],axis=0)[FEATURES].fillna(0)\n",
        "y_train_lstm = generate_labels(train_df['price_actual_hilbert_denoised'], WINDOW_SIZE)\n",
        "\n",
        "FEATURES_WITH_TIME = FEATURES + ['dayofyear', 'dayofweek', 'hour']\n",
        "\n",
        "lstm_regressor = LSTMRegressor(hidden_layer_size=hidden_layer_size, learning_rate=0.001, epochs=EPOCHS,\n",
        "                               batch_size=BATCH_SIZE, sequence_length=WINDOW_SIZE)\n",
        "X = add_time_features(X_train_lstm[X_train_lstm.index <= '2015-08-31'].copy())[FEATURES_WITH_TIME]\n",
        "y = y_train_lstm[y_train_lstm.index.isin(X.index)]\n",
        "lstm_regressor.fit(X, y)\n",
        "y_pred = lstm_regressor.restore().predict(add_time_features(X_test_lstm.copy())[FEATURES_WITH_TIME])\n",
        "sample_submit = pd.read_csv(os.path.join(DIR, 'sample_submit.csv'),header=None, names=['time','y_pred'])\n",
        "sample_submit['y_pred'] = list(y_pred.map(lambda x:x[0]))\n",
        "file = f'submit_lstm_{WINDOW_SIZE}_{BATCH_SIZE}_{EPOCHS}_{hidden_layer_size}_2_sigma_with_time_v004.csv'\n",
        "print(file)\n",
        "sample_submit.to_csv(os.path.join(DIR,file), index=False, header=None)\n",
        "sample_submit.head(),sample_submit.describe()"
      ],
      "metadata": {
        "colab": {
          "base_uri": "https://localhost:8080/"
        },
        "outputId": "514992a3-053b-49ed-a052-607abfcd204c",
        "id": "qg2jY6ebOIn8"
      },
      "execution_count": 15,
      "outputs": [
        {
          "output_type": "stream",
          "name": "stderr",
          "text": [
            "Epoch 1/30: 100%|██████████| 15/15 [00:12<00:00,  1.19it/s]\n"
          ]
        },
        {
          "output_type": "stream",
          "name": "stdout",
          "text": [
            "Epoch 1/30, Loss: 0.1092\n"
          ]
        },
        {
          "output_type": "stream",
          "name": "stderr",
          "text": [
            "Epoch 2/30: 100%|██████████| 15/15 [00:12<00:00,  1.21it/s]\n"
          ]
        },
        {
          "output_type": "stream",
          "name": "stdout",
          "text": [
            "Epoch 2/30, Loss: 0.0895\n"
          ]
        },
        {
          "output_type": "stream",
          "name": "stderr",
          "text": [
            "Epoch 3/30: 100%|██████████| 15/15 [00:12<00:00,  1.21it/s]\n"
          ]
        },
        {
          "output_type": "stream",
          "name": "stdout",
          "text": [
            "Epoch 3/30, Loss: 0.0469\n"
          ]
        },
        {
          "output_type": "stream",
          "name": "stderr",
          "text": [
            "Epoch 4/30: 100%|██████████| 15/15 [00:12<00:00,  1.21it/s]\n"
          ]
        },
        {
          "output_type": "stream",
          "name": "stdout",
          "text": [
            "Epoch 4/30, Loss: 0.0425\n"
          ]
        },
        {
          "output_type": "stream",
          "name": "stderr",
          "text": [
            "Epoch 5/30: 100%|██████████| 15/15 [00:12<00:00,  1.21it/s]\n"
          ]
        },
        {
          "output_type": "stream",
          "name": "stdout",
          "text": [
            "Epoch 5/30, Loss: 0.0415\n"
          ]
        },
        {
          "output_type": "stream",
          "name": "stderr",
          "text": [
            "Epoch 6/30: 100%|██████████| 15/15 [00:12<00:00,  1.21it/s]\n"
          ]
        },
        {
          "output_type": "stream",
          "name": "stdout",
          "text": [
            "Epoch 6/30, Loss: 0.0377\n"
          ]
        },
        {
          "output_type": "stream",
          "name": "stderr",
          "text": [
            "Epoch 7/30: 100%|██████████| 15/15 [00:12<00:00,  1.22it/s]\n"
          ]
        },
        {
          "output_type": "stream",
          "name": "stdout",
          "text": [
            "Epoch 7/30, Loss: 0.0356\n"
          ]
        },
        {
          "output_type": "stream",
          "name": "stderr",
          "text": [
            "Epoch 8/30: 100%|██████████| 15/15 [00:12<00:00,  1.19it/s]\n"
          ]
        },
        {
          "output_type": "stream",
          "name": "stdout",
          "text": [
            "Epoch 8/30, Loss: 0.0327\n"
          ]
        },
        {
          "output_type": "stream",
          "name": "stderr",
          "text": [
            "Epoch 9/30: 100%|██████████| 15/15 [00:12<00:00,  1.18it/s]\n"
          ]
        },
        {
          "output_type": "stream",
          "name": "stdout",
          "text": [
            "Epoch 9/30, Loss: 0.0308\n"
          ]
        },
        {
          "output_type": "stream",
          "name": "stderr",
          "text": [
            "Epoch 10/30: 100%|██████████| 15/15 [00:12<00:00,  1.18it/s]\n"
          ]
        },
        {
          "output_type": "stream",
          "name": "stdout",
          "text": [
            "Epoch 10/30, Loss: 0.0291\n"
          ]
        },
        {
          "output_type": "stream",
          "name": "stderr",
          "text": [
            "Epoch 11/30: 100%|██████████| 15/15 [00:12<00:00,  1.19it/s]\n"
          ]
        },
        {
          "output_type": "stream",
          "name": "stdout",
          "text": [
            "Epoch 11/30, Loss: 0.0277\n"
          ]
        },
        {
          "output_type": "stream",
          "name": "stderr",
          "text": [
            "Epoch 12/30: 100%|██████████| 15/15 [00:12<00:00,  1.19it/s]\n"
          ]
        },
        {
          "output_type": "stream",
          "name": "stdout",
          "text": [
            "Epoch 12/30, Loss: 0.0266\n"
          ]
        },
        {
          "output_type": "stream",
          "name": "stderr",
          "text": [
            "Epoch 13/30: 100%|██████████| 15/15 [00:12<00:00,  1.20it/s]\n"
          ]
        },
        {
          "output_type": "stream",
          "name": "stdout",
          "text": [
            "Epoch 13/30, Loss: 0.0255\n"
          ]
        },
        {
          "output_type": "stream",
          "name": "stderr",
          "text": [
            "Epoch 14/30: 100%|██████████| 15/15 [00:12<00:00,  1.20it/s]\n"
          ]
        },
        {
          "output_type": "stream",
          "name": "stdout",
          "text": [
            "Epoch 14/30, Loss: 0.0239\n"
          ]
        },
        {
          "output_type": "stream",
          "name": "stderr",
          "text": [
            "Epoch 15/30: 100%|██████████| 15/15 [00:12<00:00,  1.21it/s]\n"
          ]
        },
        {
          "output_type": "stream",
          "name": "stdout",
          "text": [
            "Epoch 15/30, Loss: 0.0222\n"
          ]
        },
        {
          "output_type": "stream",
          "name": "stderr",
          "text": [
            "Epoch 16/30: 100%|██████████| 15/15 [00:12<00:00,  1.20it/s]\n"
          ]
        },
        {
          "output_type": "stream",
          "name": "stdout",
          "text": [
            "Epoch 16/30, Loss: 0.0210\n"
          ]
        },
        {
          "output_type": "stream",
          "name": "stderr",
          "text": [
            "Epoch 17/30: 100%|██████████| 15/15 [00:12<00:00,  1.20it/s]\n"
          ]
        },
        {
          "output_type": "stream",
          "name": "stdout",
          "text": [
            "Epoch 17/30, Loss: 0.0198\n"
          ]
        },
        {
          "output_type": "stream",
          "name": "stderr",
          "text": [
            "Epoch 18/30: 100%|██████████| 15/15 [00:12<00:00,  1.21it/s]\n"
          ]
        },
        {
          "output_type": "stream",
          "name": "stdout",
          "text": [
            "Epoch 18/30, Loss: 0.0181\n"
          ]
        },
        {
          "output_type": "stream",
          "name": "stderr",
          "text": [
            "Epoch 19/30: 100%|██████████| 15/15 [00:12<00:00,  1.21it/s]\n"
          ]
        },
        {
          "output_type": "stream",
          "name": "stdout",
          "text": [
            "Epoch 19/30, Loss: 0.0186\n"
          ]
        },
        {
          "output_type": "stream",
          "name": "stderr",
          "text": [
            "Epoch 20/30: 100%|██████████| 15/15 [00:12<00:00,  1.16it/s]\n"
          ]
        },
        {
          "output_type": "stream",
          "name": "stdout",
          "text": [
            "Epoch 20/30, Loss: 0.0212\n"
          ]
        },
        {
          "output_type": "stream",
          "name": "stderr",
          "text": [
            "Epoch 21/30: 100%|██████████| 15/15 [00:12<00:00,  1.21it/s]\n"
          ]
        },
        {
          "output_type": "stream",
          "name": "stdout",
          "text": [
            "Epoch 21/30, Loss: 0.0206\n"
          ]
        },
        {
          "output_type": "stream",
          "name": "stderr",
          "text": [
            "Epoch 22/30: 100%|██████████| 15/15 [00:12<00:00,  1.21it/s]\n"
          ]
        },
        {
          "output_type": "stream",
          "name": "stdout",
          "text": [
            "Epoch 22/30, Loss: 0.0180\n"
          ]
        },
        {
          "output_type": "stream",
          "name": "stderr",
          "text": [
            "Epoch 23/30: 100%|██████████| 15/15 [00:12<00:00,  1.22it/s]\n"
          ]
        },
        {
          "output_type": "stream",
          "name": "stdout",
          "text": [
            "Epoch 23/30, Loss: 0.0248\n"
          ]
        },
        {
          "output_type": "stream",
          "name": "stderr",
          "text": [
            "Epoch 24/30: 100%|██████████| 15/15 [00:12<00:00,  1.22it/s]\n"
          ]
        },
        {
          "output_type": "stream",
          "name": "stdout",
          "text": [
            "Epoch 24/30, Loss: 0.0356\n"
          ]
        },
        {
          "output_type": "stream",
          "name": "stderr",
          "text": [
            "Epoch 25/30: 100%|██████████| 15/15 [00:12<00:00,  1.23it/s]\n"
          ]
        },
        {
          "output_type": "stream",
          "name": "stdout",
          "text": [
            "Epoch 25/30, Loss: 0.0243\n"
          ]
        },
        {
          "output_type": "stream",
          "name": "stderr",
          "text": [
            "Epoch 26/30: 100%|██████████| 15/15 [00:12<00:00,  1.20it/s]\n"
          ]
        },
        {
          "output_type": "stream",
          "name": "stdout",
          "text": [
            "Epoch 26/30, Loss: 0.0208\n"
          ]
        },
        {
          "output_type": "stream",
          "name": "stderr",
          "text": [
            "Epoch 27/30: 100%|██████████| 15/15 [00:12<00:00,  1.22it/s]\n"
          ]
        },
        {
          "output_type": "stream",
          "name": "stdout",
          "text": [
            "Epoch 27/30, Loss: 0.0194\n"
          ]
        },
        {
          "output_type": "stream",
          "name": "stderr",
          "text": [
            "Epoch 28/30: 100%|██████████| 15/15 [00:12<00:00,  1.20it/s]\n"
          ]
        },
        {
          "output_type": "stream",
          "name": "stdout",
          "text": [
            "Epoch 28/30, Loss: 0.0201\n"
          ]
        },
        {
          "output_type": "stream",
          "name": "stderr",
          "text": [
            "Epoch 29/30: 100%|██████████| 15/15 [00:12<00:00,  1.18it/s]\n"
          ]
        },
        {
          "output_type": "stream",
          "name": "stdout",
          "text": [
            "Epoch 29/30, Loss: 0.0182\n"
          ]
        },
        {
          "output_type": "stream",
          "name": "stderr",
          "text": [
            "Epoch 30/30: 100%|██████████| 15/15 [00:12<00:00,  1.20it/s]\n"
          ]
        },
        {
          "output_type": "stream",
          "name": "stdout",
          "text": [
            "Epoch 30/30, Loss: 0.0171\n",
            "submit_lstm_336_360_30_91_2_sigma_with_time_v004.csv\n"
          ]
        },
        {
          "output_type": "execute_result",
          "data": {
            "text/plain": [
              "(                        time     y_pred\n",
              " 0  2018-01-01 00:00:00+01:00  58.096313\n",
              " 1  2018-01-01 01:00:00+01:00  53.565559\n",
              " 2  2018-01-01 02:00:00+01:00  53.879761\n",
              " 3  2018-01-01 03:00:00+01:00  52.887959\n",
              " 4  2018-01-01 04:00:00+01:00  51.514076,\n",
              "             y_pred\n",
              " count  8760.000000\n",
              " mean     65.630889\n",
              " std       7.508413\n",
              " min      37.929203\n",
              " 25%      60.742952\n",
              " 50%      65.997478\n",
              " 75%      71.281200\n",
              " max      83.306915)"
            ]
          },
          "metadata": {},
          "execution_count": 15
        }
      ]
    },
    {
      "cell_type": "code",
      "source": [
        "y_pred = lstm_regressor.restore('last_model_v004.pth').predict(add_time_features(X_test_lstm.copy())[FEATURES_WITH_TIME])\n",
        "sample_submit = pd.read_csv(os.path.join(DIR, 'sample_submit.csv'),header=None, names=['time','y_pred'])\n",
        "sample_submit['y_pred'] = list(y_pred.map(lambda x:x[0]))\n",
        "file = f'submit_lstm_{WINDOW_SIZE}_{BATCH_SIZE}_{EPOCHS}_{hidden_layer_size}_last_model_2_sigma_with_time_v004.csv'\n",
        "print(file)\n",
        "sample_submit.to_csv(os.path.join(DIR,file), index=False, header=None)\n",
        "sample_submit.head(),sample_submit.describe()"
      ],
      "metadata": {
        "colab": {
          "base_uri": "https://localhost:8080/"
        },
        "id": "bjGeCzlCjmke",
        "outputId": "67087df5-37a8-4048-bf8e-cef374cf0bff"
      },
      "execution_count": 16,
      "outputs": [
        {
          "output_type": "stream",
          "name": "stdout",
          "text": [
            "submit_lstm_336_360_30_91_last_model_2_sigma_with_time_v004.csv\n"
          ]
        },
        {
          "output_type": "execute_result",
          "data": {
            "text/plain": [
              "(                        time     y_pred\n",
              " 0  2018-01-01 00:00:00+01:00  58.096313\n",
              " 1  2018-01-01 01:00:00+01:00  53.565559\n",
              " 2  2018-01-01 02:00:00+01:00  53.879761\n",
              " 3  2018-01-01 03:00:00+01:00  52.887959\n",
              " 4  2018-01-01 04:00:00+01:00  51.514076,\n",
              "             y_pred\n",
              " count  8760.000000\n",
              " mean     65.630889\n",
              " std       7.508413\n",
              " min      37.929203\n",
              " 25%      60.742952\n",
              " 50%      65.997478\n",
              " 75%      71.281200\n",
              " max      83.306915)"
            ]
          },
          "metadata": {},
          "execution_count": 16
        }
      ]
    }
  ]
}